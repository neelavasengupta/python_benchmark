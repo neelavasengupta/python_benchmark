{
 "cells": [
  {
   "cell_type": "code",
   "execution_count": 7,
   "metadata": {},
   "outputs": [],
   "source": [
    "import numpy as np\n",
    "import time\n",
    "import pandas as pd\n",
    "import matplotlib.pyplot as plt"
   ]
  },
  {
   "cell_type": "markdown",
   "metadata": {},
   "source": [
    "## Cholesky decomposition"
   ]
  },
  {
   "cell_type": "code",
   "execution_count": null,
   "metadata": {},
   "outputs": [],
   "source": [
    "from scipy import random, linalg\n",
    "def generate_positive_definite_matrix(x):\n",
    "    A = random.rand(x,x)\n",
    "    B = np.dot(A,A.transpose())\n",
    "    return B"
   ]
  },
  {
   "cell_type": "code",
   "execution_count": null,
   "metadata": {},
   "outputs": [],
   "source": [
    "times=[]\n",
    "for size in range(1000):\n",
    "    data=generate_positive_definite_matrix(1000)\n",
    "    start = time.time()\n",
    "    np.linalg.cholesky(data)\n",
    "    end = time.time()\n",
    "    times.append(end - start)"
   ]
  },
  {
   "cell_type": "code",
   "execution_count": null,
   "metadata": {},
   "outputs": [],
   "source": [
    "plt.plot(times)"
   ]
  },
  {
   "cell_type": "code",
   "execution_count": null,
   "metadata": {},
   "outputs": [],
   "source": [
    "np.mean(times)\n"
   ]
  },
  {
   "cell_type": "code",
   "execution_count": null,
   "metadata": {},
   "outputs": [],
   "source": [
    "times=[]\n",
    "for size in range(1000):\n",
    "    data=generate_positive_definite_matrix(size)\n",
    "    start = time.time()\n",
    "    np.linalg.cholesky(data)\n",
    "    end = time.time()\n",
    "    times.append(end - start)"
   ]
  },
  {
   "cell_type": "code",
   "execution_count": null,
   "metadata": {},
   "outputs": [],
   "source": [
    "plt.plot(times)"
   ]
  },
  {
   "cell_type": "markdown",
   "metadata": {},
   "source": [
    "## Large file operations"
   ]
  },
  {
   "cell_type": "markdown",
   "metadata": {},
   "source": [
    "### Create a structured NxM dataset of 64 bit precision floats "
   ]
  },
  {
   "cell_type": "code",
   "execution_count": 36,
   "metadata": {},
   "outputs": [],
   "source": [
    "num_rows=10000\n",
    "num_columns=1000"
   ]
  },
  {
   "cell_type": "code",
   "execution_count": 37,
   "metadata": {},
   "outputs": [],
   "source": [
    "large_data=pd.DataFrame(np.random.rand(num_rows,num_columns), columns=['s' + str(x) for x in range(num_columns)])"
   ]
  },
  {
   "cell_type": "code",
   "execution_count": 38,
   "metadata": {},
   "outputs": [
    {
     "data": {
      "text/html": [
       "<div>\n",
       "<style scoped>\n",
       "    .dataframe tbody tr th:only-of-type {\n",
       "        vertical-align: middle;\n",
       "    }\n",
       "\n",
       "    .dataframe tbody tr th {\n",
       "        vertical-align: top;\n",
       "    }\n",
       "\n",
       "    .dataframe thead th {\n",
       "        text-align: right;\n",
       "    }\n",
       "</style>\n",
       "<table border=\"1\" class=\"dataframe\">\n",
       "  <thead>\n",
       "    <tr style=\"text-align: right;\">\n",
       "      <th></th>\n",
       "      <th>s0</th>\n",
       "      <th>s1</th>\n",
       "      <th>s2</th>\n",
       "      <th>s3</th>\n",
       "      <th>s4</th>\n",
       "      <th>s5</th>\n",
       "      <th>s6</th>\n",
       "      <th>s7</th>\n",
       "      <th>s8</th>\n",
       "      <th>s9</th>\n",
       "      <th>...</th>\n",
       "      <th>s990</th>\n",
       "      <th>s991</th>\n",
       "      <th>s992</th>\n",
       "      <th>s993</th>\n",
       "      <th>s994</th>\n",
       "      <th>s995</th>\n",
       "      <th>s996</th>\n",
       "      <th>s997</th>\n",
       "      <th>s998</th>\n",
       "      <th>s999</th>\n",
       "    </tr>\n",
       "  </thead>\n",
       "  <tbody>\n",
       "    <tr>\n",
       "      <th>0</th>\n",
       "      <td>0.094511</td>\n",
       "      <td>0.143113</td>\n",
       "      <td>0.225843</td>\n",
       "      <td>0.287334</td>\n",
       "      <td>0.503658</td>\n",
       "      <td>0.191771</td>\n",
       "      <td>0.959875</td>\n",
       "      <td>0.327380</td>\n",
       "      <td>0.536864</td>\n",
       "      <td>0.131369</td>\n",
       "      <td>...</td>\n",
       "      <td>0.816402</td>\n",
       "      <td>0.244572</td>\n",
       "      <td>0.917704</td>\n",
       "      <td>0.474035</td>\n",
       "      <td>0.569685</td>\n",
       "      <td>0.850994</td>\n",
       "      <td>0.395474</td>\n",
       "      <td>0.269698</td>\n",
       "      <td>0.681805</td>\n",
       "      <td>0.370162</td>\n",
       "    </tr>\n",
       "    <tr>\n",
       "      <th>1</th>\n",
       "      <td>0.307498</td>\n",
       "      <td>0.920031</td>\n",
       "      <td>0.314734</td>\n",
       "      <td>0.386908</td>\n",
       "      <td>0.192934</td>\n",
       "      <td>0.547035</td>\n",
       "      <td>0.137393</td>\n",
       "      <td>0.714491</td>\n",
       "      <td>0.974568</td>\n",
       "      <td>0.605994</td>\n",
       "      <td>...</td>\n",
       "      <td>0.243675</td>\n",
       "      <td>0.822005</td>\n",
       "      <td>0.721392</td>\n",
       "      <td>0.153924</td>\n",
       "      <td>0.742086</td>\n",
       "      <td>0.101868</td>\n",
       "      <td>0.988638</td>\n",
       "      <td>0.152789</td>\n",
       "      <td>0.522342</td>\n",
       "      <td>0.067061</td>\n",
       "    </tr>\n",
       "    <tr>\n",
       "      <th>2</th>\n",
       "      <td>0.260936</td>\n",
       "      <td>0.693814</td>\n",
       "      <td>0.822246</td>\n",
       "      <td>0.397795</td>\n",
       "      <td>0.706931</td>\n",
       "      <td>0.203226</td>\n",
       "      <td>0.306601</td>\n",
       "      <td>0.383148</td>\n",
       "      <td>0.618669</td>\n",
       "      <td>0.403875</td>\n",
       "      <td>...</td>\n",
       "      <td>0.915170</td>\n",
       "      <td>0.402854</td>\n",
       "      <td>0.830432</td>\n",
       "      <td>0.711949</td>\n",
       "      <td>0.215858</td>\n",
       "      <td>0.345542</td>\n",
       "      <td>0.239821</td>\n",
       "      <td>0.756024</td>\n",
       "      <td>0.375101</td>\n",
       "      <td>0.747183</td>\n",
       "    </tr>\n",
       "    <tr>\n",
       "      <th>3</th>\n",
       "      <td>0.797338</td>\n",
       "      <td>0.335468</td>\n",
       "      <td>0.434307</td>\n",
       "      <td>0.848685</td>\n",
       "      <td>0.122490</td>\n",
       "      <td>0.404364</td>\n",
       "      <td>0.539589</td>\n",
       "      <td>0.060932</td>\n",
       "      <td>0.972283</td>\n",
       "      <td>0.223774</td>\n",
       "      <td>...</td>\n",
       "      <td>0.836609</td>\n",
       "      <td>0.008077</td>\n",
       "      <td>0.802679</td>\n",
       "      <td>0.852414</td>\n",
       "      <td>0.394907</td>\n",
       "      <td>0.245113</td>\n",
       "      <td>0.225190</td>\n",
       "      <td>0.049417</td>\n",
       "      <td>0.987385</td>\n",
       "      <td>0.663944</td>\n",
       "    </tr>\n",
       "    <tr>\n",
       "      <th>4</th>\n",
       "      <td>0.832507</td>\n",
       "      <td>0.610257</td>\n",
       "      <td>0.320844</td>\n",
       "      <td>0.487679</td>\n",
       "      <td>0.645151</td>\n",
       "      <td>0.689860</td>\n",
       "      <td>0.698817</td>\n",
       "      <td>0.630889</td>\n",
       "      <td>0.322380</td>\n",
       "      <td>0.192769</td>\n",
       "      <td>...</td>\n",
       "      <td>0.366980</td>\n",
       "      <td>0.065518</td>\n",
       "      <td>0.507296</td>\n",
       "      <td>0.928087</td>\n",
       "      <td>0.418979</td>\n",
       "      <td>0.620955</td>\n",
       "      <td>0.292652</td>\n",
       "      <td>0.379492</td>\n",
       "      <td>0.537514</td>\n",
       "      <td>0.476869</td>\n",
       "    </tr>\n",
       "  </tbody>\n",
       "</table>\n",
       "<p>5 rows × 1000 columns</p>\n",
       "</div>"
      ],
      "text/plain": [
       "         s0        s1        s2        s3        s4        s5        s6  \\\n",
       "0  0.094511  0.143113  0.225843  0.287334  0.503658  0.191771  0.959875   \n",
       "1  0.307498  0.920031  0.314734  0.386908  0.192934  0.547035  0.137393   \n",
       "2  0.260936  0.693814  0.822246  0.397795  0.706931  0.203226  0.306601   \n",
       "3  0.797338  0.335468  0.434307  0.848685  0.122490  0.404364  0.539589   \n",
       "4  0.832507  0.610257  0.320844  0.487679  0.645151  0.689860  0.698817   \n",
       "\n",
       "         s7        s8        s9    ...         s990      s991      s992  \\\n",
       "0  0.327380  0.536864  0.131369    ...     0.816402  0.244572  0.917704   \n",
       "1  0.714491  0.974568  0.605994    ...     0.243675  0.822005  0.721392   \n",
       "2  0.383148  0.618669  0.403875    ...     0.915170  0.402854  0.830432   \n",
       "3  0.060932  0.972283  0.223774    ...     0.836609  0.008077  0.802679   \n",
       "4  0.630889  0.322380  0.192769    ...     0.366980  0.065518  0.507296   \n",
       "\n",
       "       s993      s994      s995      s996      s997      s998      s999  \n",
       "0  0.474035  0.569685  0.850994  0.395474  0.269698  0.681805  0.370162  \n",
       "1  0.153924  0.742086  0.101868  0.988638  0.152789  0.522342  0.067061  \n",
       "2  0.711949  0.215858  0.345542  0.239821  0.756024  0.375101  0.747183  \n",
       "3  0.852414  0.394907  0.245113  0.225190  0.049417  0.987385  0.663944  \n",
       "4  0.928087  0.418979  0.620955  0.292652  0.379492  0.537514  0.476869  \n",
       "\n",
       "[5 rows x 1000 columns]"
      ]
     },
     "execution_count": 38,
     "metadata": {},
     "output_type": "execute_result"
    }
   ],
   "source": [
    "large_data.head()"
   ]
  },
  {
   "cell_type": "markdown",
   "metadata": {},
   "source": [
    "### Write data to csv and parquet"
   ]
  },
  {
   "cell_type": "code",
   "execution_count": 34,
   "metadata": {},
   "outputs": [
    {
     "name": "stdout",
     "output_type": "stream",
     "text": [
      "13 s ± 232 ms per loop (mean ± std. dev. of 7 runs, 1 loop each)\n"
     ]
    }
   ],
   "source": [
    "%%timeit\n",
    "large_data.to_csv(\"../data/large_data.csv\", index=False)"
   ]
  },
  {
   "cell_type": "code",
   "execution_count": 33,
   "metadata": {},
   "outputs": [
    {
     "name": "stdout",
     "output_type": "stream",
     "text": [
      "2.28 s ± 108 ms per loop (mean ± std. dev. of 7 runs, 1 loop each)\n"
     ]
    }
   ],
   "source": [
    "%%timeit\n",
    "large_data.to_parquet(\"../data/large_data.parquet\")"
   ]
  },
  {
   "cell_type": "markdown",
   "metadata": {},
   "source": [
    "### Read data from csv and parquet"
   ]
  },
  {
   "cell_type": "code",
   "execution_count": 40,
   "metadata": {},
   "outputs": [
    {
     "name": "stdout",
     "output_type": "stream",
     "text": [
      "2.33 s ± 15.1 ms per loop (mean ± std. dev. of 7 runs, 1 loop each)\n"
     ]
    }
   ],
   "source": [
    "%%timeit\n",
    "large_data=pd.read_csv(\"../data/large_data.csv\")"
   ]
  },
  {
   "cell_type": "code",
   "execution_count": 41,
   "metadata": {},
   "outputs": [
    {
     "name": "stdout",
     "output_type": "stream",
     "text": [
      "195 ms ± 3.14 ms per loop (mean ± std. dev. of 7 runs, 1 loop each)\n"
     ]
    }
   ],
   "source": [
    "%%timeit\n",
    "large_data=pd.read_parquet(\"../data/large_data.parquet\")"
   ]
  },
  {
   "cell_type": "markdown",
   "metadata": {},
   "source": [
    "## Search data within a matrix"
   ]
  },
  {
   "cell_type": "markdown",
   "metadata": {},
   "source": [
    "### Create matrix"
   ]
  },
  {
   "cell_type": "code",
   "execution_count": 44,
   "metadata": {},
   "outputs": [],
   "source": [
    "matrix = np.random.randint(low=0,high=100,size=(100,100))"
   ]
  },
  {
   "cell_type": "code",
   "execution_count": 47,
   "metadata": {},
   "outputs": [
    {
     "data": {
      "text/plain": [
       "array([[35, 21, 67, ..., 91, 84, 24],\n",
       "       [86, 96, 96, ..., 69, 25, 18],\n",
       "       [90, 64, 98, ..., 62,  4, 36],\n",
       "       ...,\n",
       "       [70, 67, 18, ..., 60, 88,  4],\n",
       "       [94, 68, 17, ..., 25, 49, 49],\n",
       "       [59, 29, 87, ..., 43, 62, 10]])"
      ]
     },
     "execution_count": 47,
     "metadata": {},
     "output_type": "execute_result"
    }
   ],
   "source": [
    "matrix"
   ]
  },
  {
   "cell_type": "markdown",
   "metadata": {},
   "source": [
    "### search for a value in the matrix"
   ]
  },
  {
   "cell_type": "code",
   "execution_count": 72,
   "metadata": {},
   "outputs": [
    {
     "data": {
      "text/plain": [
       "(array([ 0,  0,  2,  3,  3,  4,  5,  6,  7,  7,  7,  9,  9, 11, 14, 15, 16,\n",
       "        16, 17, 20, 20, 20, 20, 23, 23, 23, 25, 26, 27, 27, 28, 29, 29, 30,\n",
       "        31, 34, 34, 35, 37, 38, 38, 39, 40, 40, 40, 41, 42, 42, 42, 42, 42,\n",
       "        43, 43, 45, 46, 47, 49, 49, 49, 51, 51, 52, 52, 53, 53, 54, 55, 55,\n",
       "        56, 59, 60, 63, 68, 68, 71, 72, 72, 75, 76, 80, 80, 81, 82, 83, 83,\n",
       "        84, 84, 86, 88, 90, 91, 95, 96, 97, 98, 99]),\n",
       " array([ 3, 28, 56, 17, 64,  3, 76, 69, 22, 69, 81,  5, 58, 15, 62, 55, 52,\n",
       "        61,  5, 17, 43, 49, 62, 50, 55, 90, 92, 77,  2, 71, 17, 85, 98, 37,\n",
       "        41, 34, 41,  9, 53, 29, 94, 73, 26, 72, 76, 29,  3, 20, 69, 87, 98,\n",
       "        38, 45, 45, 70,  8, 35, 41, 95, 83, 87,  2, 35, 31, 81, 40, 42, 47,\n",
       "        86, 91, 42, 67, 43, 72, 12, 32, 63, 37, 93,  6, 38, 67, 30, 23, 34,\n",
       "        26, 64, 78, 96, 99, 97, 94, 14, 46, 38, 91]))"
      ]
     },
     "execution_count": 72,
     "metadata": {},
     "output_type": "execute_result"
    }
   ],
   "source": [
    "# %%timeit\n",
    "np.where(matrix == 5)"
   ]
  },
  {
   "cell_type": "code",
   "execution_count": 80,
   "metadata": {},
   "outputs": [
    {
     "data": {
      "text/plain": [
       "(array([ 0,  0,  1,  1,  1,  2,  3,  3,  4,  4,  4,  4,  4,  5,  5,  6,  7,\n",
       "         7,  8,  8,  9,  9,  9,  9,  9,  9,  9, 10, 10, 10, 10, 12, 12, 14,\n",
       "        14, 14, 14, 15, 15, 17, 17, 17, 17, 17, 17, 17, 18, 18, 19, 19, 20,\n",
       "        21, 21, 21, 22, 22, 23, 23, 24, 24, 24, 25, 25, 25, 26, 26, 26, 27,\n",
       "        27, 27, 27, 28, 28, 29, 29, 30, 31, 32, 32, 32, 33, 33, 34, 34, 35,\n",
       "        35, 36, 36, 36, 38, 39, 40, 40, 41, 41, 42, 43, 44, 45, 45, 46, 46,\n",
       "        46, 46, 47, 47, 48, 48, 48, 48, 49, 50, 50, 50, 52, 52, 53, 54, 54,\n",
       "        54, 54, 55, 56, 56, 56, 57, 57, 57, 57, 58, 59, 59, 59, 60, 60, 61,\n",
       "        61, 61, 61, 62, 62, 63, 64, 65, 66, 66, 66, 67, 67, 68, 68, 69, 69,\n",
       "        69, 69, 70, 71, 71, 72, 74, 74, 75, 75, 75, 75, 75, 77, 78, 78, 79,\n",
       "        79, 79, 79, 80, 81, 81, 81, 82, 82, 82, 82, 83, 83, 83, 87, 88, 88,\n",
       "        88, 88, 89, 90, 90, 90, 90, 91, 93, 94, 94, 96, 96, 98, 99, 99, 99]),\n",
       " array([ 8, 35, 73, 76, 82, 65, 11, 18, 29, 32, 50, 73, 90, 33, 88, 41, 67,\n",
       "        92, 11, 98,  1, 13, 16, 21, 26, 62, 65,  9, 42, 55, 69, 66, 85,  9,\n",
       "        39, 47, 55, 74, 78,  8, 11, 25, 40, 46, 81, 86, 76, 81, 25, 78, 30,\n",
       "        25, 49, 89, 19, 92, 80, 83, 53, 90, 95, 20, 88, 91, 47, 72, 81, 32,\n",
       "        52, 60, 92, 16, 83, 11, 50, 65, 97, 27, 45, 67,  0, 73, 22, 35, 67,\n",
       "        91,  0, 16, 75, 48, 45, 50, 65,  5, 36, 16, 73, 88, 13, 82,  3, 31,\n",
       "        58, 91, 56, 96, 21, 28, 80, 83, 80, 38, 39, 97, 15, 41,  2, 19, 24,\n",
       "        68, 80, 14, 41, 59, 97,  0, 48, 79, 90, 79, 29, 67, 98, 65, 70, 45,\n",
       "        61, 73, 91, 22, 99, 65, 65, 17, 15, 42, 63, 62, 75, 31, 60, 45, 85,\n",
       "        90, 92, 12, 75, 90, 37, 55, 94, 45, 49, 55, 75, 95,  2, 71, 91, 50,\n",
       "        60, 64, 86, 75, 38, 82, 85, 19, 35, 51, 66, 61, 85, 97, 42,  7, 14,\n",
       "        93, 97, 88, 13, 32, 50, 85, 88, 19, 73, 78, 31, 95, 49, 25, 78, 93]))"
      ]
     },
     "execution_count": 80,
     "metadata": {},
     "output_type": "execute_result"
    }
   ],
   "source": [
    "# %%timeit\n",
    "np.where(matrix < 2)"
   ]
  },
  {
   "cell_type": "code",
   "execution_count": 74,
   "metadata": {},
   "outputs": [
    {
     "data": {
      "text/plain": [
       "array([63, 15, 43, 51, 42, 59,  8, 65, 92, 40, 20, 11, 64, 25, 13, 54, 75,\n",
       "       70, 26, 70, 27, 87, 44, 38, 79, 62, 93, 48, 39, 77, 15, 20, 10, 16,\n",
       "       43, 48, 14, 40, 16, 68,  1, 62, 37, 95,  3, 37, 12, 81, 43, 38, 44,\n",
       "       20,  7,  1, 88,  5,  1, 12, 78, 96, 27, 10, 97, 21, 14, 43, 59, 16,\n",
       "       41, 12, 79, 71, 78, 76, 70, 48, 78,  9, 29, 69,  0, 92, 74, 94, 75,\n",
       "       31, 71, 44, 25, 58, 21,  1, 41, 49, 82, 26, 37, 47, 27,  4])"
      ]
     },
     "execution_count": 74,
     "metadata": {},
     "output_type": "execute_result"
    }
   ],
   "source": [
    "# %%timeit\n",
    "np.argmax(matrix, axis=1)"
   ]
  },
  {
   "cell_type": "code",
   "execution_count": 75,
   "metadata": {},
   "outputs": [
    {
     "data": {
      "text/plain": [
       "array([ 8, 73, 65, 18, 29, 33, 41, 67, 11, 13,  9, 14, 85, 13, 39, 74, 32,\n",
       "       40, 81, 25, 30, 25, 19, 80, 90, 20, 47, 52, 16, 11, 65, 97, 45,  0,\n",
       "       22, 91,  0, 70, 48, 45, 50,  5, 16, 73, 88, 82, 31, 56, 21, 80, 39,\n",
       "       69, 15,  2, 19, 14, 41, 90, 79, 29, 65, 73, 22, 65, 65, 17, 42, 62,\n",
       "       31, 45, 12, 75, 37, 51, 94, 45, 42,  2, 71, 50, 75, 38, 19, 85, 17,\n",
       "       47, 93, 42,  7, 88, 50, 88, 90, 19, 73, 43, 31, 67, 49, 25])"
      ]
     },
     "execution_count": 75,
     "metadata": {},
     "output_type": "execute_result"
    }
   ],
   "source": [
    "# %%timeit\n",
    "np.argmin(matrix, axis=1)"
   ]
  },
  {
   "cell_type": "markdown",
   "metadata": {},
   "source": [
    "### Sort a matrix"
   ]
  },
  {
   "cell_type": "code",
   "execution_count": 79,
   "metadata": {},
   "outputs": [
    {
     "data": {
      "text/plain": [
       "array([[ 0,  0,  2, ..., 96, 96, 98],\n",
       "       [ 0,  0,  0, ..., 96, 97, 99],\n",
       "       [ 1,  2,  4, ..., 98, 99, 99],\n",
       "       ...,\n",
       "       [ 2,  3,  4, ..., 98, 98, 99],\n",
       "       [ 1,  5,  6, ..., 94, 95, 97],\n",
       "       [ 0,  0,  1, ..., 96, 98, 98]])"
      ]
     },
     "execution_count": 79,
     "metadata": {},
     "output_type": "execute_result"
    }
   ],
   "source": [
    "# %%timeit\n",
    "np.sort(matrix, kind='quicksort', axis=1)"
   ]
  },
  {
   "cell_type": "markdown",
   "metadata": {},
   "source": [
    "## Interpolation"
   ]
  },
  {
   "cell_type": "markdown",
   "metadata": {},
   "source": [
    "### Use the following documentation to explore varieties of interpolations-https://docs.scipy.org/doc/scipy/reference/tutorial/interpolate.html\n",
    "\n",
    "1. 1D vs 2D interpolation\n",
    "2. Spline vs RBF vs generic (linear, quadratic, cubic etc) interpolation\n",
    "3. Univariate vs multivariate interpolation"
   ]
  },
  {
   "cell_type": "code",
   "execution_count": 90,
   "metadata": {},
   "outputs": [],
   "source": [
    "from scipy.interpolate import interp1d"
   ]
  },
  {
   "cell_type": "markdown",
   "metadata": {},
   "source": [
    "### 1-D interpolation"
   ]
  },
  {
   "cell_type": "markdown",
   "metadata": {},
   "source": [
    "#### create data for generating interpolation function"
   ]
  },
  {
   "cell_type": "code",
   "execution_count": 111,
   "metadata": {},
   "outputs": [],
   "source": [
    "x = np.linspace(0, 10, num=11, endpoint=True)\n",
    "y = np.cos(-x**2/9.0)"
   ]
  },
  {
   "cell_type": "markdown",
   "metadata": {},
   "source": [
    "#### possible options of interpolation methods ‘linear’, ‘nearest’, ‘zero’, ‘slinear’, ‘quadratic’, ‘cubic’, ‘previous’, ‘next’, where ‘zero’, ‘slinear’, ‘quadratic’ and ‘cubic’ "
   ]
  },
  {
   "cell_type": "code",
   "execution_count": 94,
   "metadata": {},
   "outputs": [],
   "source": [
    "f = interp1d(x, y, kind='linear')\n",
    "f2 = interp1d(x, y, kind='cubic')\n",
    "f3 = interp1d(x, y, kind='quadratic')"
   ]
  },
  {
   "cell_type": "markdown",
   "metadata": {},
   "source": [
    "#### interpolating at 100 different points and plotting it"
   ]
  },
  {
   "cell_type": "code",
   "execution_count": 112,
   "metadata": {},
   "outputs": [
    {
     "data": {
      "text/plain": [
       "<matplotlib.legend.Legend at 0x7fb002da18d0>"
      ]
     },
     "execution_count": 112,
     "metadata": {},
     "output_type": "execute_result"
    },
    {
     "data": {
      "image/png": "[encoded data removed]",
      "text/plain": [
       "<Figure size 1440x504 with 1 Axes>"
      ]
     },
     "metadata": {
      "needs_background": "light"
     },
     "output_type": "display_data"
    }
   ],
   "source": [
    "plt.figure(figsize=(20,7))\n",
    "xnew = np.linspace(0, 10, num=100, endpoint=True)\n",
    "plt.plot(x, y, 'o', xnew, f(xnew), '-', xnew, f2(xnew), '--', xnew, f3(xnew), '+')\n",
    "plt.legend(['data', 'linear', 'cubic', 'quadratic'], loc='best')"
   ]
  },
  {
   "cell_type": "markdown",
   "metadata": {},
   "source": [
    "## Multicolumn sort"
   ]
  },
  {
   "cell_type": "code",
   "execution_count": 120,
   "metadata": {},
   "outputs": [
    {
     "data": {
      "text/html": [
       "<div>\n",
       "<style scoped>\n",
       "    .dataframe tbody tr th:only-of-type {\n",
       "        vertical-align: middle;\n",
       "    }\n",
       "\n",
       "    .dataframe tbody tr th {\n",
       "        vertical-align: top;\n",
       "    }\n",
       "\n",
       "    .dataframe thead th {\n",
       "        text-align: right;\n",
       "    }\n",
       "</style>\n",
       "<table border=\"1\" class=\"dataframe\">\n",
       "  <thead>\n",
       "    <tr style=\"text-align: right;\">\n",
       "      <th></th>\n",
       "      <th>s0</th>\n",
       "      <th>s1</th>\n",
       "      <th>s2</th>\n",
       "      <th>s3</th>\n",
       "      <th>s4</th>\n",
       "      <th>s5</th>\n",
       "      <th>s6</th>\n",
       "      <th>s7</th>\n",
       "      <th>s8</th>\n",
       "      <th>s9</th>\n",
       "      <th>...</th>\n",
       "      <th>s90</th>\n",
       "      <th>s91</th>\n",
       "      <th>s92</th>\n",
       "      <th>s93</th>\n",
       "      <th>s94</th>\n",
       "      <th>s95</th>\n",
       "      <th>s96</th>\n",
       "      <th>s97</th>\n",
       "      <th>s98</th>\n",
       "      <th>s99</th>\n",
       "    </tr>\n",
       "  </thead>\n",
       "  <tbody>\n",
       "    <tr>\n",
       "      <th>0</th>\n",
       "      <td>46</td>\n",
       "      <td>14</td>\n",
       "      <td>22</td>\n",
       "      <td>62</td>\n",
       "      <td>34</td>\n",
       "      <td>50</td>\n",
       "      <td>69</td>\n",
       "      <td>72</td>\n",
       "      <td>90</td>\n",
       "      <td>63</td>\n",
       "      <td>...</td>\n",
       "      <td>92</td>\n",
       "      <td>88</td>\n",
       "      <td>64</td>\n",
       "      <td>59</td>\n",
       "      <td>54</td>\n",
       "      <td>40</td>\n",
       "      <td>20</td>\n",
       "      <td>33</td>\n",
       "      <td>21</td>\n",
       "      <td>73</td>\n",
       "    </tr>\n",
       "    <tr>\n",
       "      <th>1</th>\n",
       "      <td>51</td>\n",
       "      <td>48</td>\n",
       "      <td>27</td>\n",
       "      <td>42</td>\n",
       "      <td>74</td>\n",
       "      <td>34</td>\n",
       "      <td>95</td>\n",
       "      <td>8</td>\n",
       "      <td>76</td>\n",
       "      <td>90</td>\n",
       "      <td>...</td>\n",
       "      <td>50</td>\n",
       "      <td>84</td>\n",
       "      <td>78</td>\n",
       "      <td>8</td>\n",
       "      <td>23</td>\n",
       "      <td>21</td>\n",
       "      <td>41</td>\n",
       "      <td>63</td>\n",
       "      <td>72</td>\n",
       "      <td>80</td>\n",
       "    </tr>\n",
       "    <tr>\n",
       "      <th>2</th>\n",
       "      <td>82</td>\n",
       "      <td>95</td>\n",
       "      <td>56</td>\n",
       "      <td>5</td>\n",
       "      <td>84</td>\n",
       "      <td>24</td>\n",
       "      <td>38</td>\n",
       "      <td>82</td>\n",
       "      <td>89</td>\n",
       "      <td>14</td>\n",
       "      <td>...</td>\n",
       "      <td>50</td>\n",
       "      <td>82</td>\n",
       "      <td>63</td>\n",
       "      <td>99</td>\n",
       "      <td>6</td>\n",
       "      <td>15</td>\n",
       "      <td>86</td>\n",
       "      <td>62</td>\n",
       "      <td>33</td>\n",
       "      <td>3</td>\n",
       "    </tr>\n",
       "    <tr>\n",
       "      <th>3</th>\n",
       "      <td>54</td>\n",
       "      <td>19</td>\n",
       "      <td>82</td>\n",
       "      <td>5</td>\n",
       "      <td>73</td>\n",
       "      <td>45</td>\n",
       "      <td>61</td>\n",
       "      <td>85</td>\n",
       "      <td>22</td>\n",
       "      <td>62</td>\n",
       "      <td>...</td>\n",
       "      <td>76</td>\n",
       "      <td>62</td>\n",
       "      <td>26</td>\n",
       "      <td>38</td>\n",
       "      <td>41</td>\n",
       "      <td>8</td>\n",
       "      <td>81</td>\n",
       "      <td>43</td>\n",
       "      <td>68</td>\n",
       "      <td>48</td>\n",
       "    </tr>\n",
       "    <tr>\n",
       "      <th>4</th>\n",
       "      <td>28</td>\n",
       "      <td>2</td>\n",
       "      <td>44</td>\n",
       "      <td>72</td>\n",
       "      <td>76</td>\n",
       "      <td>54</td>\n",
       "      <td>45</td>\n",
       "      <td>21</td>\n",
       "      <td>50</td>\n",
       "      <td>76</td>\n",
       "      <td>...</td>\n",
       "      <td>67</td>\n",
       "      <td>97</td>\n",
       "      <td>29</td>\n",
       "      <td>13</td>\n",
       "      <td>82</td>\n",
       "      <td>40</td>\n",
       "      <td>44</td>\n",
       "      <td>18</td>\n",
       "      <td>20</td>\n",
       "      <td>82</td>\n",
       "    </tr>\n",
       "  </tbody>\n",
       "</table>\n",
       "<p>5 rows × 100 columns</p>\n",
       "</div>"
      ],
      "text/plain": [
       "   s0  s1  s2  s3  s4  s5  s6  s7  s8  s9 ...   s90  s91  s92  s93  s94  s95  \\\n",
       "0  46  14  22  62  34  50  69  72  90  63 ...    92   88   64   59   54   40   \n",
       "1  51  48  27  42  74  34  95   8  76  90 ...    50   84   78    8   23   21   \n",
       "2  82  95  56   5  84  24  38  82  89  14 ...    50   82   63   99    6   15   \n",
       "3  54  19  82   5  73  45  61  85  22  62 ...    76   62   26   38   41    8   \n",
       "4  28   2  44  72  76  54  45  21  50  76 ...    67   97   29   13   82   40   \n",
       "\n",
       "   s96  s97  s98  s99  \n",
       "0   20   33   21   73  \n",
       "1   41   63   72   80  \n",
       "2   86   62   33    3  \n",
       "3   81   43   68   48  \n",
       "4   44   18   20   82  \n",
       "\n",
       "[5 rows x 100 columns]"
      ]
     },
     "execution_count": 120,
     "metadata": {},
     "output_type": "execute_result"
    }
   ],
   "source": [
    "data_for_multicolumn_sort=pd.DataFrame(np.random.randint(low=0,high=100,size=(100,100)), columns=['s' + str(x) for x in range(100)])\n",
    "data_for_multicolumn_sort.head()"
   ]
  },
  {
   "cell_type": "code",
   "execution_count": 124,
   "metadata": {},
   "outputs": [
    {
     "data": {
      "text/html": [
       "<div>\n",
       "<style scoped>\n",
       "    .dataframe tbody tr th:only-of-type {\n",
       "        vertical-align: middle;\n",
       "    }\n",
       "\n",
       "    .dataframe tbody tr th {\n",
       "        vertical-align: top;\n",
       "    }\n",
       "\n",
       "    .dataframe thead th {\n",
       "        text-align: right;\n",
       "    }\n",
       "</style>\n",
       "<table border=\"1\" class=\"dataframe\">\n",
       "  <thead>\n",
       "    <tr style=\"text-align: right;\">\n",
       "      <th></th>\n",
       "      <th>s0</th>\n",
       "      <th>s1</th>\n",
       "      <th>s2</th>\n",
       "      <th>s3</th>\n",
       "      <th>s4</th>\n",
       "      <th>s5</th>\n",
       "      <th>s6</th>\n",
       "      <th>s7</th>\n",
       "      <th>s8</th>\n",
       "      <th>s9</th>\n",
       "      <th>...</th>\n",
       "      <th>s90</th>\n",
       "      <th>s91</th>\n",
       "      <th>s92</th>\n",
       "      <th>s93</th>\n",
       "      <th>s94</th>\n",
       "      <th>s95</th>\n",
       "      <th>s96</th>\n",
       "      <th>s97</th>\n",
       "      <th>s98</th>\n",
       "      <th>s99</th>\n",
       "    </tr>\n",
       "  </thead>\n",
       "  <tbody>\n",
       "    <tr>\n",
       "      <th>92</th>\n",
       "      <td>58</td>\n",
       "      <td>49</td>\n",
       "      <td>48</td>\n",
       "      <td>9</td>\n",
       "      <td>87</td>\n",
       "      <td>1</td>\n",
       "      <td>42</td>\n",
       "      <td>34</td>\n",
       "      <td>36</td>\n",
       "      <td>34</td>\n",
       "      <td>...</td>\n",
       "      <td>61</td>\n",
       "      <td>40</td>\n",
       "      <td>20</td>\n",
       "      <td>35</td>\n",
       "      <td>47</td>\n",
       "      <td>11</td>\n",
       "      <td>96</td>\n",
       "      <td>96</td>\n",
       "      <td>53</td>\n",
       "      <td>10</td>\n",
       "    </tr>\n",
       "    <tr>\n",
       "      <th>56</th>\n",
       "      <td>68</td>\n",
       "      <td>4</td>\n",
       "      <td>24</td>\n",
       "      <td>16</td>\n",
       "      <td>9</td>\n",
       "      <td>1</td>\n",
       "      <td>75</td>\n",
       "      <td>10</td>\n",
       "      <td>52</td>\n",
       "      <td>95</td>\n",
       "      <td>...</td>\n",
       "      <td>63</td>\n",
       "      <td>14</td>\n",
       "      <td>63</td>\n",
       "      <td>54</td>\n",
       "      <td>25</td>\n",
       "      <td>97</td>\n",
       "      <td>57</td>\n",
       "      <td>24</td>\n",
       "      <td>99</td>\n",
       "      <td>60</td>\n",
       "    </tr>\n",
       "    <tr>\n",
       "      <th>7</th>\n",
       "      <td>17</td>\n",
       "      <td>8</td>\n",
       "      <td>0</td>\n",
       "      <td>9</td>\n",
       "      <td>10</td>\n",
       "      <td>1</td>\n",
       "      <td>90</td>\n",
       "      <td>2</td>\n",
       "      <td>62</td>\n",
       "      <td>97</td>\n",
       "      <td>...</td>\n",
       "      <td>43</td>\n",
       "      <td>77</td>\n",
       "      <td>1</td>\n",
       "      <td>69</td>\n",
       "      <td>84</td>\n",
       "      <td>46</td>\n",
       "      <td>69</td>\n",
       "      <td>18</td>\n",
       "      <td>35</td>\n",
       "      <td>47</td>\n",
       "    </tr>\n",
       "    <tr>\n",
       "      <th>9</th>\n",
       "      <td>26</td>\n",
       "      <td>64</td>\n",
       "      <td>81</td>\n",
       "      <td>35</td>\n",
       "      <td>16</td>\n",
       "      <td>4</td>\n",
       "      <td>73</td>\n",
       "      <td>65</td>\n",
       "      <td>68</td>\n",
       "      <td>96</td>\n",
       "      <td>...</td>\n",
       "      <td>2</td>\n",
       "      <td>85</td>\n",
       "      <td>94</td>\n",
       "      <td>87</td>\n",
       "      <td>85</td>\n",
       "      <td>4</td>\n",
       "      <td>28</td>\n",
       "      <td>71</td>\n",
       "      <td>0</td>\n",
       "      <td>99</td>\n",
       "    </tr>\n",
       "    <tr>\n",
       "      <th>36</th>\n",
       "      <td>49</td>\n",
       "      <td>80</td>\n",
       "      <td>6</td>\n",
       "      <td>48</td>\n",
       "      <td>9</td>\n",
       "      <td>6</td>\n",
       "      <td>2</td>\n",
       "      <td>11</td>\n",
       "      <td>12</td>\n",
       "      <td>88</td>\n",
       "      <td>...</td>\n",
       "      <td>95</td>\n",
       "      <td>74</td>\n",
       "      <td>53</td>\n",
       "      <td>31</td>\n",
       "      <td>9</td>\n",
       "      <td>44</td>\n",
       "      <td>62</td>\n",
       "      <td>88</td>\n",
       "      <td>11</td>\n",
       "      <td>93</td>\n",
       "    </tr>\n",
       "    <tr>\n",
       "      <th>13</th>\n",
       "      <td>9</td>\n",
       "      <td>86</td>\n",
       "      <td>50</td>\n",
       "      <td>92</td>\n",
       "      <td>14</td>\n",
       "      <td>7</td>\n",
       "      <td>78</td>\n",
       "      <td>68</td>\n",
       "      <td>77</td>\n",
       "      <td>93</td>\n",
       "      <td>...</td>\n",
       "      <td>43</td>\n",
       "      <td>16</td>\n",
       "      <td>79</td>\n",
       "      <td>54</td>\n",
       "      <td>7</td>\n",
       "      <td>92</td>\n",
       "      <td>29</td>\n",
       "      <td>28</td>\n",
       "      <td>64</td>\n",
       "      <td>93</td>\n",
       "    </tr>\n",
       "    <tr>\n",
       "      <th>91</th>\n",
       "      <td>18</td>\n",
       "      <td>64</td>\n",
       "      <td>93</td>\n",
       "      <td>30</td>\n",
       "      <td>33</td>\n",
       "      <td>9</td>\n",
       "      <td>73</td>\n",
       "      <td>4</td>\n",
       "      <td>46</td>\n",
       "      <td>58</td>\n",
       "      <td>...</td>\n",
       "      <td>49</td>\n",
       "      <td>63</td>\n",
       "      <td>67</td>\n",
       "      <td>28</td>\n",
       "      <td>4</td>\n",
       "      <td>83</td>\n",
       "      <td>62</td>\n",
       "      <td>59</td>\n",
       "      <td>16</td>\n",
       "      <td>43</td>\n",
       "    </tr>\n",
       "    <tr>\n",
       "      <th>12</th>\n",
       "      <td>94</td>\n",
       "      <td>28</td>\n",
       "      <td>40</td>\n",
       "      <td>30</td>\n",
       "      <td>78</td>\n",
       "      <td>9</td>\n",
       "      <td>55</td>\n",
       "      <td>69</td>\n",
       "      <td>3</td>\n",
       "      <td>80</td>\n",
       "      <td>...</td>\n",
       "      <td>8</td>\n",
       "      <td>46</td>\n",
       "      <td>27</td>\n",
       "      <td>40</td>\n",
       "      <td>32</td>\n",
       "      <td>7</td>\n",
       "      <td>2</td>\n",
       "      <td>16</td>\n",
       "      <td>34</td>\n",
       "      <td>60</td>\n",
       "    </tr>\n",
       "    <tr>\n",
       "      <th>10</th>\n",
       "      <td>88</td>\n",
       "      <td>33</td>\n",
       "      <td>44</td>\n",
       "      <td>32</td>\n",
       "      <td>93</td>\n",
       "      <td>11</td>\n",
       "      <td>75</td>\n",
       "      <td>35</td>\n",
       "      <td>24</td>\n",
       "      <td>70</td>\n",
       "      <td>...</td>\n",
       "      <td>45</td>\n",
       "      <td>54</td>\n",
       "      <td>90</td>\n",
       "      <td>8</td>\n",
       "      <td>29</td>\n",
       "      <td>32</td>\n",
       "      <td>46</td>\n",
       "      <td>28</td>\n",
       "      <td>26</td>\n",
       "      <td>35</td>\n",
       "    </tr>\n",
       "    <tr>\n",
       "      <th>46</th>\n",
       "      <td>28</td>\n",
       "      <td>50</td>\n",
       "      <td>82</td>\n",
       "      <td>50</td>\n",
       "      <td>5</td>\n",
       "      <td>13</td>\n",
       "      <td>48</td>\n",
       "      <td>29</td>\n",
       "      <td>8</td>\n",
       "      <td>51</td>\n",
       "      <td>...</td>\n",
       "      <td>76</td>\n",
       "      <td>88</td>\n",
       "      <td>88</td>\n",
       "      <td>74</td>\n",
       "      <td>40</td>\n",
       "      <td>60</td>\n",
       "      <td>42</td>\n",
       "      <td>88</td>\n",
       "      <td>7</td>\n",
       "      <td>35</td>\n",
       "    </tr>\n",
       "    <tr>\n",
       "      <th>22</th>\n",
       "      <td>3</td>\n",
       "      <td>21</td>\n",
       "      <td>15</td>\n",
       "      <td>31</td>\n",
       "      <td>62</td>\n",
       "      <td>14</td>\n",
       "      <td>96</td>\n",
       "      <td>6</td>\n",
       "      <td>94</td>\n",
       "      <td>18</td>\n",
       "      <td>...</td>\n",
       "      <td>11</td>\n",
       "      <td>82</td>\n",
       "      <td>22</td>\n",
       "      <td>43</td>\n",
       "      <td>37</td>\n",
       "      <td>48</td>\n",
       "      <td>93</td>\n",
       "      <td>16</td>\n",
       "      <td>74</td>\n",
       "      <td>79</td>\n",
       "    </tr>\n",
       "    <tr>\n",
       "      <th>61</th>\n",
       "      <td>79</td>\n",
       "      <td>24</td>\n",
       "      <td>98</td>\n",
       "      <td>55</td>\n",
       "      <td>71</td>\n",
       "      <td>15</td>\n",
       "      <td>84</td>\n",
       "      <td>87</td>\n",
       "      <td>88</td>\n",
       "      <td>7</td>\n",
       "      <td>...</td>\n",
       "      <td>86</td>\n",
       "      <td>75</td>\n",
       "      <td>54</td>\n",
       "      <td>69</td>\n",
       "      <td>64</td>\n",
       "      <td>41</td>\n",
       "      <td>83</td>\n",
       "      <td>17</td>\n",
       "      <td>69</td>\n",
       "      <td>84</td>\n",
       "    </tr>\n",
       "    <tr>\n",
       "      <th>99</th>\n",
       "      <td>18</td>\n",
       "      <td>9</td>\n",
       "      <td>47</td>\n",
       "      <td>27</td>\n",
       "      <td>94</td>\n",
       "      <td>15</td>\n",
       "      <td>30</td>\n",
       "      <td>75</td>\n",
       "      <td>64</td>\n",
       "      <td>20</td>\n",
       "      <td>...</td>\n",
       "      <td>63</td>\n",
       "      <td>3</td>\n",
       "      <td>74</td>\n",
       "      <td>72</td>\n",
       "      <td>25</td>\n",
       "      <td>40</td>\n",
       "      <td>22</td>\n",
       "      <td>12</td>\n",
       "      <td>88</td>\n",
       "      <td>88</td>\n",
       "    </tr>\n",
       "    <tr>\n",
       "      <th>11</th>\n",
       "      <td>18</td>\n",
       "      <td>94</td>\n",
       "      <td>76</td>\n",
       "      <td>1</td>\n",
       "      <td>17</td>\n",
       "      <td>17</td>\n",
       "      <td>84</td>\n",
       "      <td>17</td>\n",
       "      <td>75</td>\n",
       "      <td>34</td>\n",
       "      <td>...</td>\n",
       "      <td>86</td>\n",
       "      <td>98</td>\n",
       "      <td>57</td>\n",
       "      <td>19</td>\n",
       "      <td>66</td>\n",
       "      <td>88</td>\n",
       "      <td>94</td>\n",
       "      <td>28</td>\n",
       "      <td>76</td>\n",
       "      <td>74</td>\n",
       "    </tr>\n",
       "    <tr>\n",
       "      <th>95</th>\n",
       "      <td>38</td>\n",
       "      <td>4</td>\n",
       "      <td>23</td>\n",
       "      <td>11</td>\n",
       "      <td>38</td>\n",
       "      <td>18</td>\n",
       "      <td>67</td>\n",
       "      <td>98</td>\n",
       "      <td>27</td>\n",
       "      <td>27</td>\n",
       "      <td>...</td>\n",
       "      <td>42</td>\n",
       "      <td>6</td>\n",
       "      <td>84</td>\n",
       "      <td>45</td>\n",
       "      <td>20</td>\n",
       "      <td>52</td>\n",
       "      <td>5</td>\n",
       "      <td>86</td>\n",
       "      <td>25</td>\n",
       "      <td>14</td>\n",
       "    </tr>\n",
       "    <tr>\n",
       "      <th>82</th>\n",
       "      <td>29</td>\n",
       "      <td>37</td>\n",
       "      <td>33</td>\n",
       "      <td>55</td>\n",
       "      <td>84</td>\n",
       "      <td>19</td>\n",
       "      <td>10</td>\n",
       "      <td>10</td>\n",
       "      <td>6</td>\n",
       "      <td>13</td>\n",
       "      <td>...</td>\n",
       "      <td>22</td>\n",
       "      <td>64</td>\n",
       "      <td>0</td>\n",
       "      <td>65</td>\n",
       "      <td>45</td>\n",
       "      <td>11</td>\n",
       "      <td>71</td>\n",
       "      <td>78</td>\n",
       "      <td>5</td>\n",
       "      <td>76</td>\n",
       "    </tr>\n",
       "    <tr>\n",
       "      <th>32</th>\n",
       "      <td>96</td>\n",
       "      <td>40</td>\n",
       "      <td>94</td>\n",
       "      <td>35</td>\n",
       "      <td>66</td>\n",
       "      <td>20</td>\n",
       "      <td>85</td>\n",
       "      <td>90</td>\n",
       "      <td>44</td>\n",
       "      <td>46</td>\n",
       "      <td>...</td>\n",
       "      <td>42</td>\n",
       "      <td>74</td>\n",
       "      <td>70</td>\n",
       "      <td>91</td>\n",
       "      <td>66</td>\n",
       "      <td>69</td>\n",
       "      <td>44</td>\n",
       "      <td>41</td>\n",
       "      <td>19</td>\n",
       "      <td>78</td>\n",
       "    </tr>\n",
       "    <tr>\n",
       "      <th>16</th>\n",
       "      <td>61</td>\n",
       "      <td>59</td>\n",
       "      <td>1</td>\n",
       "      <td>36</td>\n",
       "      <td>78</td>\n",
       "      <td>21</td>\n",
       "      <td>52</td>\n",
       "      <td>18</td>\n",
       "      <td>22</td>\n",
       "      <td>79</td>\n",
       "      <td>...</td>\n",
       "      <td>97</td>\n",
       "      <td>61</td>\n",
       "      <td>52</td>\n",
       "      <td>53</td>\n",
       "      <td>71</td>\n",
       "      <td>43</td>\n",
       "      <td>29</td>\n",
       "      <td>64</td>\n",
       "      <td>55</td>\n",
       "      <td>42</td>\n",
       "    </tr>\n",
       "    <tr>\n",
       "      <th>24</th>\n",
       "      <td>4</td>\n",
       "      <td>69</td>\n",
       "      <td>45</td>\n",
       "      <td>2</td>\n",
       "      <td>1</td>\n",
       "      <td>23</td>\n",
       "      <td>85</td>\n",
       "      <td>49</td>\n",
       "      <td>17</td>\n",
       "      <td>99</td>\n",
       "      <td>...</td>\n",
       "      <td>40</td>\n",
       "      <td>60</td>\n",
       "      <td>13</td>\n",
       "      <td>84</td>\n",
       "      <td>8</td>\n",
       "      <td>9</td>\n",
       "      <td>10</td>\n",
       "      <td>76</td>\n",
       "      <td>59</td>\n",
       "      <td>63</td>\n",
       "    </tr>\n",
       "    <tr>\n",
       "      <th>85</th>\n",
       "      <td>97</td>\n",
       "      <td>74</td>\n",
       "      <td>68</td>\n",
       "      <td>15</td>\n",
       "      <td>20</td>\n",
       "      <td>24</td>\n",
       "      <td>7</td>\n",
       "      <td>91</td>\n",
       "      <td>25</td>\n",
       "      <td>84</td>\n",
       "      <td>...</td>\n",
       "      <td>44</td>\n",
       "      <td>59</td>\n",
       "      <td>12</td>\n",
       "      <td>17</td>\n",
       "      <td>40</td>\n",
       "      <td>90</td>\n",
       "      <td>59</td>\n",
       "      <td>17</td>\n",
       "      <td>60</td>\n",
       "      <td>88</td>\n",
       "    </tr>\n",
       "  </tbody>\n",
       "</table>\n",
       "<p>20 rows × 100 columns</p>\n",
       "</div>"
      ],
      "text/plain": [
       "    s0  s1  s2  s3  s4  s5  s6  s7  s8  s9 ...   s90  s91  s92  s93  s94  s95  \\\n",
       "92  58  49  48   9  87   1  42  34  36  34 ...    61   40   20   35   47   11   \n",
       "56  68   4  24  16   9   1  75  10  52  95 ...    63   14   63   54   25   97   \n",
       "7   17   8   0   9  10   1  90   2  62  97 ...    43   77    1   69   84   46   \n",
       "9   26  64  81  35  16   4  73  65  68  96 ...     2   85   94   87   85    4   \n",
       "36  49  80   6  48   9   6   2  11  12  88 ...    95   74   53   31    9   44   \n",
       "13   9  86  50  92  14   7  78  68  77  93 ...    43   16   79   54    7   92   \n",
       "91  18  64  93  30  33   9  73   4  46  58 ...    49   63   67   28    4   83   \n",
       "12  94  28  40  30  78   9  55  69   3  80 ...     8   46   27   40   32    7   \n",
       "10  88  33  44  32  93  11  75  35  24  70 ...    45   54   90    8   29   32   \n",
       "46  28  50  82  50   5  13  48  29   8  51 ...    76   88   88   74   40   60   \n",
       "22   3  21  15  31  62  14  96   6  94  18 ...    11   82   22   43   37   48   \n",
       "61  79  24  98  55  71  15  84  87  88   7 ...    86   75   54   69   64   41   \n",
       "99  18   9  47  27  94  15  30  75  64  20 ...    63    3   74   72   25   40   \n",
       "11  18  94  76   1  17  17  84  17  75  34 ...    86   98   57   19   66   88   \n",
       "95  38   4  23  11  38  18  67  98  27  27 ...    42    6   84   45   20   52   \n",
       "82  29  37  33  55  84  19  10  10   6  13 ...    22   64    0   65   45   11   \n",
       "32  96  40  94  35  66  20  85  90  44  46 ...    42   74   70   91   66   69   \n",
       "16  61  59   1  36  78  21  52  18  22  79 ...    97   61   52   53   71   43   \n",
       "24   4  69  45   2   1  23  85  49  17  99 ...    40   60   13   84    8    9   \n",
       "85  97  74  68  15  20  24   7  91  25  84 ...    44   59   12   17   40   90   \n",
       "\n",
       "    s96  s97  s98  s99  \n",
       "92   96   96   53   10  \n",
       "56   57   24   99   60  \n",
       "7    69   18   35   47  \n",
       "9    28   71    0   99  \n",
       "36   62   88   11   93  \n",
       "13   29   28   64   93  \n",
       "91   62   59   16   43  \n",
       "12    2   16   34   60  \n",
       "10   46   28   26   35  \n",
       "46   42   88    7   35  \n",
       "22   93   16   74   79  \n",
       "61   83   17   69   84  \n",
       "99   22   12   88   88  \n",
       "11   94   28   76   74  \n",
       "95    5   86   25   14  \n",
       "82   71   78    5   76  \n",
       "32   44   41   19   78  \n",
       "16   29   64   55   42  \n",
       "24   10   76   59   63  \n",
       "85   59   17   60   88  \n",
       "\n",
       "[20 rows x 100 columns]"
      ]
     },
     "execution_count": 124,
     "metadata": {},
     "output_type": "execute_result"
    }
   ],
   "source": [
    "multicolumns=['s5', 's2', 's9']\n",
    "ascending_order=[True, False, True]\n",
    "sorted_data=data_for_multicolumn_sort.sort_values(multicolumns, ascending=ascending_order)\n",
    "sorted_data.head(20)"
   ]
  },
  {
   "cell_type": "markdown",
   "metadata": {},
   "source": [
    "## Matrix common operations"
   ]
  },
  {
   "cell_type": "code",
   "execution_count": 125,
   "metadata": {},
   "outputs": [
    {
     "data": {
      "text/plain": [
       "array([35, 21, 67, ..., 43, 62, 10])"
      ]
     },
     "execution_count": 125,
     "metadata": {},
     "output_type": "execute_result"
    }
   ],
   "source": [
    "np.ravel(matrix)"
   ]
  },
  {
   "cell_type": "code",
   "execution_count": 126,
   "metadata": {},
   "outputs": [
    {
     "data": {
      "text/plain": [
       "array([[35, 21, 67, ..., 52,  0,  2],\n",
       "       [14, 39, 96, ..., 55,  3, 37],\n",
       "       [24, 16, 35, ..., 68,  5, 70],\n",
       "       ...,\n",
       "       [96, 81, 95, ..., 69,  0, 55],\n",
       "       [77, 31, 43, ..., 20, 44, 48],\n",
       "       [67,  5, 24, ..., 43, 62, 10]])"
      ]
     },
     "execution_count": 126,
     "metadata": {},
     "output_type": "execute_result"
    }
   ],
   "source": [
    "np.reshape(matrix, (1000,10))"
   ]
  },
  {
   "cell_type": "code",
   "execution_count": 128,
   "metadata": {},
   "outputs": [
    {
     "data": {
      "text/plain": [
       "array([[[35, 21, 67, ..., 52,  0,  2],\n",
       "        [14, 39, 96, ..., 55,  3, 37],\n",
       "        [24, 16, 35, ..., 68,  5, 70],\n",
       "        ...,\n",
       "        [ 9, 90, 22, ..., 82, 16, 40],\n",
       "        [15, 71, 42, ..., 33, 80, 23],\n",
       "        [41, 94, 24, ..., 91, 84, 24]],\n",
       "\n",
       "       [[86, 96, 96, ..., 97, 16, 37],\n",
       "        [78, 80, 83, ..., 41, 31, 79],\n",
       "        [10, 55, 82, ..., 60, 55, 31],\n",
       "        ...,\n",
       "        [28, 83, 47, ..., 82, 94, 14],\n",
       "        [88, 27,  0, ..., 16, 59,  3],\n",
       "        [16, 78, 91, ..., 69, 25, 18]],\n",
       "\n",
       "       [[90, 64, 98, ..., 83, 45, 17],\n",
       "        [25, 42, 29, ..., 60, 27, 86],\n",
       "        [ 2, 92, 47, ..., 84, 88, 72],\n",
       "        ...,\n",
       "        [18,  9, 86, ..., 63,  7, 49],\n",
       "        [ 8, 87, 45, ..., 91, 29, 99],\n",
       "        [92,  8, 87, ..., 62,  4, 36]],\n",
       "\n",
       "       ...,\n",
       "\n",
       "       [[70, 67, 18, ...,  9,  7, 68],\n",
       "        [93, 14, 44, ..., 31, 98, 43],\n",
       "        [81, 63, 70, ..., 12, 78, 24],\n",
       "        ...,\n",
       "        [32, 23, 74, ...,  9, 14, 29],\n",
       "        [55, 66, 62, ..., 65, 83, 82],\n",
       "        [44, 82, 14, ..., 60, 88,  4]],\n",
       "\n",
       "       [[94, 68, 17, ..., 88, 76, 42],\n",
       "        [82, 35, 69, ..., 74, 79, 40],\n",
       "        [39, 53, 16, ..., 97,  7, 26],\n",
       "        ...,\n",
       "        [30, 35, 37, ..., 75, 23, 30],\n",
       "        [81, 89, 95, ..., 90, 41, 78],\n",
       "        [84, 44, 75, ..., 25, 49, 49]],\n",
       "\n",
       "       [[59, 29, 87, ..., 42, 58, 10],\n",
       "        [71, 65, 54, ..., 48, 41, 53],\n",
       "        [34, 23,  6, ..., 59, 18, 82],\n",
       "        ...,\n",
       "        [96, 81, 95, ..., 69,  0, 55],\n",
       "        [77, 31, 43, ..., 20, 44, 48],\n",
       "        [67,  5, 24, ..., 43, 62, 10]]])"
      ]
     },
     "execution_count": 128,
     "metadata": {},
     "output_type": "execute_result"
    }
   ],
   "source": [
    "np.reshape(matrix, (100,10,10))"
   ]
  },
  {
   "cell_type": "code",
   "execution_count": 131,
   "metadata": {},
   "outputs": [
    {
     "data": {
      "text/plain": [
       "array([[24, 84, 91, ..., 67, 21, 35],\n",
       "       [18, 25, 69, ..., 96, 96, 86],\n",
       "       [36,  4, 62, ..., 98, 64, 90],\n",
       "       ...,\n",
       "       [ 4, 88, 60, ..., 18, 67, 70],\n",
       "       [49, 49, 25, ..., 17, 68, 94],\n",
       "       [10, 62, 43, ..., 87, 29, 59]])"
      ]
     },
     "execution_count": 131,
     "metadata": {},
     "output_type": "execute_result"
    }
   ],
   "source": [
    "np.flip(matrix, axis=0)"
   ]
  },
  {
   "cell_type": "code",
   "execution_count": 132,
   "metadata": {},
   "outputs": [
    {
     "data": {
      "text/plain": [
       "array([[24, 84, 91, ..., 67, 21, 35],\n",
       "       [18, 25, 69, ..., 96, 96, 86],\n",
       "       [36,  4, 62, ..., 98, 64, 90],\n",
       "       ...,\n",
       "       [ 4, 88, 60, ..., 18, 67, 70],\n",
       "       [49, 49, 25, ..., 17, 68, 94],\n",
       "       [10, 62, 43, ..., 87, 29, 59]])"
      ]
     },
     "execution_count": 132,
     "metadata": {},
     "output_type": "execute_result"
    }
   ],
   "source": [
    "np.flip(matrix, axis=1)"
   ]
  },
  {
   "cell_type": "code",
   "execution_count": null,
   "metadata": {},
   "outputs": [],
   "source": []
  }
 ],
 "metadata": {
  "kernelspec": {
   "display_name": "Python 3",
   "language": "python",
   "name": "python3"
  },
  "language_info": {
   "codemirror_mode": {
    "name": "ipython",
    "version": 3
   },
   "file_extension": ".py",
   "mimetype": "text/x-python",
   "name": "python",
   "nbconvert_exporter": "python",
   "pygments_lexer": "ipython3",
   "version": "3.7.7"
  }
 },
 "nbformat": 4,
 "nbformat_minor": 4
}
